{
 "cells": [
  {
   "cell_type": "markdown",
   "id": "b0f81cbb",
   "metadata": {},
   "source": [
    "## Titanic Data\n",
    "### Using the titanic data..."
   ]
  },
  {
   "cell_type": "code",
   "execution_count": 1,
   "id": "a0b45caa",
   "metadata": {},
   "outputs": [],
   "source": [
    "import warnings\n",
    "warnings.filterwarnings(\"ignore\")\n",
    "\n",
    "import pandas as pd\n",
    "from env import get_db_url\n",
    "from prepare import prep_titanic, titanic_split"
   ]
  },
  {
   "cell_type": "code",
   "execution_count": 2,
   "id": "a9422897",
   "metadata": {
    "scrolled": true
   },
   "outputs": [
    {
     "name": "stdout",
     "output_type": "stream",
     "text": [
      "(891, 13)\n"
     ]
    },
    {
     "data": {
      "text/html": [
       "<div>\n",
       "<style scoped>\n",
       "    .dataframe tbody tr th:only-of-type {\n",
       "        vertical-align: middle;\n",
       "    }\n",
       "\n",
       "    .dataframe tbody tr th {\n",
       "        vertical-align: top;\n",
       "    }\n",
       "\n",
       "    .dataframe thead th {\n",
       "        text-align: right;\n",
       "    }\n",
       "</style>\n",
       "<table border=\"1\" class=\"dataframe\">\n",
       "  <thead>\n",
       "    <tr style=\"text-align: right;\">\n",
       "      <th></th>\n",
       "      <th>passenger_id</th>\n",
       "      <th>survived</th>\n",
       "      <th>pclass</th>\n",
       "      <th>sex</th>\n",
       "      <th>age</th>\n",
       "      <th>sibsp</th>\n",
       "      <th>parch</th>\n",
       "      <th>fare</th>\n",
       "      <th>embarked</th>\n",
       "      <th>class</th>\n",
       "      <th>deck</th>\n",
       "      <th>embark_town</th>\n",
       "      <th>alone</th>\n",
       "    </tr>\n",
       "  </thead>\n",
       "  <tbody>\n",
       "    <tr>\n",
       "      <th>0</th>\n",
       "      <td>0</td>\n",
       "      <td>0</td>\n",
       "      <td>3</td>\n",
       "      <td>male</td>\n",
       "      <td>22.0</td>\n",
       "      <td>1</td>\n",
       "      <td>0</td>\n",
       "      <td>7.2500</td>\n",
       "      <td>S</td>\n",
       "      <td>Third</td>\n",
       "      <td>None</td>\n",
       "      <td>Southampton</td>\n",
       "      <td>0</td>\n",
       "    </tr>\n",
       "    <tr>\n",
       "      <th>1</th>\n",
       "      <td>1</td>\n",
       "      <td>1</td>\n",
       "      <td>1</td>\n",
       "      <td>female</td>\n",
       "      <td>38.0</td>\n",
       "      <td>1</td>\n",
       "      <td>0</td>\n",
       "      <td>71.2833</td>\n",
       "      <td>C</td>\n",
       "      <td>First</td>\n",
       "      <td>C</td>\n",
       "      <td>Cherbourg</td>\n",
       "      <td>0</td>\n",
       "    </tr>\n",
       "    <tr>\n",
       "      <th>2</th>\n",
       "      <td>2</td>\n",
       "      <td>1</td>\n",
       "      <td>3</td>\n",
       "      <td>female</td>\n",
       "      <td>26.0</td>\n",
       "      <td>0</td>\n",
       "      <td>0</td>\n",
       "      <td>7.9250</td>\n",
       "      <td>S</td>\n",
       "      <td>Third</td>\n",
       "      <td>None</td>\n",
       "      <td>Southampton</td>\n",
       "      <td>1</td>\n",
       "    </tr>\n",
       "    <tr>\n",
       "      <th>3</th>\n",
       "      <td>3</td>\n",
       "      <td>1</td>\n",
       "      <td>1</td>\n",
       "      <td>female</td>\n",
       "      <td>35.0</td>\n",
       "      <td>1</td>\n",
       "      <td>0</td>\n",
       "      <td>53.1000</td>\n",
       "      <td>S</td>\n",
       "      <td>First</td>\n",
       "      <td>C</td>\n",
       "      <td>Southampton</td>\n",
       "      <td>0</td>\n",
       "    </tr>\n",
       "    <tr>\n",
       "      <th>4</th>\n",
       "      <td>4</td>\n",
       "      <td>0</td>\n",
       "      <td>3</td>\n",
       "      <td>male</td>\n",
       "      <td>35.0</td>\n",
       "      <td>0</td>\n",
       "      <td>0</td>\n",
       "      <td>8.0500</td>\n",
       "      <td>S</td>\n",
       "      <td>Third</td>\n",
       "      <td>None</td>\n",
       "      <td>Southampton</td>\n",
       "      <td>1</td>\n",
       "    </tr>\n",
       "  </tbody>\n",
       "</table>\n",
       "</div>"
      ],
      "text/plain": [
       "   passenger_id  survived  pclass     sex   age  sibsp  parch     fare  \\\n",
       "0             0         0       3    male  22.0      1      0   7.2500   \n",
       "1             1         1       1  female  38.0      1      0  71.2833   \n",
       "2             2         1       3  female  26.0      0      0   7.9250   \n",
       "3             3         1       1  female  35.0      1      0  53.1000   \n",
       "4             4         0       3    male  35.0      0      0   8.0500   \n",
       "\n",
       "  embarked  class  deck  embark_town  alone  \n",
       "0        S  Third  None  Southampton      0  \n",
       "1        C  First     C    Cherbourg      0  \n",
       "2        S  Third  None  Southampton      1  \n",
       "3        S  First     C  Southampton      0  \n",
       "4        S  Third  None  Southampton      1  "
      ]
     },
     "execution_count": 2,
     "metadata": {},
     "output_type": "execute_result"
    }
   ],
   "source": [
    "url = get_db_url(db_name='titanic_db')\n",
    "query = 'SELECT * FROM passengers'\n",
    "df = pd.read_sql(query, url)\n",
    "print(df.shape)\n",
    "df.head()"
   ]
  },
  {
   "cell_type": "code",
   "execution_count": 3,
   "id": "00713570",
   "metadata": {},
   "outputs": [
    {
     "data": {
      "text/plain": [
       "((497, 14), (214, 14), (178, 14))"
      ]
     },
     "execution_count": 3,
     "metadata": {},
     "output_type": "execute_result"
    }
   ],
   "source": [
    "train, validate, test = prep_titanic(df)\n",
    "train.shape, validate.shape, test.shape"
   ]
  },
  {
   "cell_type": "markdown",
   "id": "de9ffbfa",
   "metadata": {},
   "source": [
    "### What is your baseline prediction? "
   ]
  },
  {
   "cell_type": "code",
   "execution_count": 4,
   "id": "2d0efffe",
   "metadata": {},
   "outputs": [
    {
     "data": {
      "text/plain": [
       "survived\n",
       "0    307\n",
       "1    190\n",
       "Name: survived, dtype: int64"
      ]
     },
     "execution_count": 4,
     "metadata": {},
     "output_type": "execute_result"
    }
   ],
   "source": [
    "train.groupby('survived').survived.count()"
   ]
  },
  {
   "cell_type": "code",
   "execution_count": 5,
   "id": "594c4307",
   "metadata": {},
   "outputs": [],
   "source": [
    "train['baseline'] = 0"
   ]
  },
  {
   "cell_type": "markdown",
   "id": "68f74307",
   "metadata": {},
   "source": [
    "### What is your baseline accuracy? \n",
    "Remember: your baseline prediction for a classification problem is predicting the most prevelant class in the training dataset (the mode). When you make those predictions, what is your accuracy? This is your baseline accuracy."
   ]
  },
  {
   "cell_type": "code",
   "execution_count": 6,
   "id": "b1b97659",
   "metadata": {},
   "outputs": [
    {
     "name": "stdout",
     "output_type": "stream",
     "text": [
      "0.6177062374245473\n"
     ]
    }
   ],
   "source": [
    "print((train.survived == train.baseline).mean())\n",
    "train = train.drop(columns='baseline')"
   ]
  },
  {
   "cell_type": "markdown",
   "id": "dd0cf3e3",
   "metadata": {},
   "source": [
    "### Fit the decision tree classifier to your training sample... "
   ]
  },
  {
   "cell_type": "code",
   "execution_count": 7,
   "id": "fc464f0a",
   "metadata": {},
   "outputs": [
    {
     "data": {
      "text/plain": [
       "(     passenger_id  pclass        age  sibsp  parch      fare  alone  Q  S\n",
       " 583           583       1  36.000000      0      0   40.1250      1  0  0\n",
       " 337           337       1  41.000000      0      0  134.5000      1  0  0\n",
       " 50             50       3   7.000000      4      1   39.6875      0  0  1\n",
       " 218           218       1  32.000000      0      0   76.2917      1  0  0\n",
       " 31             31       1  29.916875      1      0  146.5208      0  0  0\n",
       " ..            ...     ...        ...    ...    ...       ...    ... .. ..\n",
       " 313           313       3  28.000000      0      0    7.8958      1  0  1\n",
       " 636           636       3  32.000000      0      0    7.9250      1  0  1\n",
       " 222           222       3  51.000000      0      0    8.0500      1  0  1\n",
       " 485           485       3  29.916875      3      1   25.4667      0  0  1\n",
       " 553           553       3  22.000000      0      0    7.2250      1  0  0\n",
       " \n",
       " [497 rows x 9 columns],\n",
       " 583    0\n",
       " 337    1\n",
       " 50     0\n",
       " 218    1\n",
       " 31     1\n",
       "       ..\n",
       " 313    0\n",
       " 636    0\n",
       " 222    0\n",
       " 485    0\n",
       " 553    1\n",
       " Name: survived, Length: 497, dtype: int64)"
      ]
     },
     "execution_count": 7,
     "metadata": {},
     "output_type": "execute_result"
    }
   ],
   "source": [
    "X_train, y_train = train.drop(columns=['survived','sex', 'embarked','class','embark_town']), train.survived\n",
    "X_train, y_train"
   ]
  },
  {
   "cell_type": "code",
   "execution_count": 8,
   "id": "10fab6c6",
   "metadata": {},
   "outputs": [],
   "source": [
    "from sklearn.tree import DecisionTreeClassifier"
   ]
  },
  {
   "cell_type": "code",
   "execution_count": 9,
   "id": "ef1b5226",
   "metadata": {},
   "outputs": [
    {
     "data": {
      "text/plain": [
       "DecisionTreeClassifier(max_depth=13, random_state=123)"
      ]
     },
     "execution_count": 9,
     "metadata": {},
     "output_type": "execute_result"
    }
   ],
   "source": [
    "clf = DecisionTreeClassifier(max_depth=13, random_state=123)\n",
    "clf = clf.fit(X_train, y_train)\n",
    "clf"
   ]
  },
  {
   "cell_type": "markdown",
   "id": "d194462c",
   "metadata": {},
   "source": [
    "### ...and transform. (i.e. make predictions on the training sample)"
   ]
  },
  {
   "cell_type": "code",
   "execution_count": 10,
   "id": "940749d2",
   "metadata": {},
   "outputs": [],
   "source": [
    "y_pred = clf.predict(X_train)"
   ]
  },
  {
   "cell_type": "markdown",
   "id": "bad682be",
   "metadata": {},
   "source": [
    "### Evaluate your in-sample results using:"
   ]
  },
  {
   "cell_type": "markdown",
   "id": "dd67afb4",
   "metadata": {},
   "source": [
    "#### the model score..."
   ]
  },
  {
   "cell_type": "code",
   "execution_count": 11,
   "id": "cc8cc44c",
   "metadata": {},
   "outputs": [
    {
     "data": {
      "text/plain": [
       "0.9436619718309859"
      ]
     },
     "execution_count": 11,
     "metadata": {},
     "output_type": "execute_result"
    }
   ],
   "source": [
    "clf.score(X_train, y_train)"
   ]
  },
  {
   "cell_type": "markdown",
   "id": "df649630",
   "metadata": {},
   "source": [
    "#### ...confusion matrix... "
   ]
  },
  {
   "cell_type": "code",
   "execution_count": 12,
   "id": "2e4080cd",
   "metadata": {},
   "outputs": [],
   "source": [
    "from sklearn.metrics import confusion_matrix"
   ]
  },
  {
   "cell_type": "code",
   "execution_count": 13,
   "id": "8fa1ce46",
   "metadata": {},
   "outputs": [
    {
     "data": {
      "text/plain": [
       "array([[305,   2],\n",
       "       [ 26, 164]])"
      ]
     },
     "execution_count": 13,
     "metadata": {},
     "output_type": "execute_result"
    }
   ],
   "source": [
    "confusion_matrix(y_train, y_pred)"
   ]
  },
  {
   "cell_type": "markdown",
   "id": "0be17e7f",
   "metadata": {},
   "source": [
    "#### ...and classification report."
   ]
  },
  {
   "cell_type": "code",
   "execution_count": 14,
   "id": "1a9bfe0b",
   "metadata": {},
   "outputs": [],
   "source": [
    "from sklearn.metrics import classification_report"
   ]
  },
  {
   "cell_type": "code",
   "execution_count": 15,
   "id": "4b8d4cb9",
   "metadata": {},
   "outputs": [
    {
     "name": "stdout",
     "output_type": "stream",
     "text": [
      "              precision    recall  f1-score   support\n",
      "\n",
      "           0       0.92      0.99      0.96       307\n",
      "           1       0.99      0.86      0.92       190\n",
      "\n",
      "    accuracy                           0.94       497\n",
      "   macro avg       0.95      0.93      0.94       497\n",
      "weighted avg       0.95      0.94      0.94       497\n",
      "\n"
     ]
    }
   ],
   "source": [
    "print(classification_report(y_train, y_pred))"
   ]
  },
  {
   "cell_type": "markdown",
   "id": "56857de8",
   "metadata": {},
   "source": [
    "### Compute: \n",
    "**Accuracy, true positive rate, false positive rate, true negative rate, false negative rate, precision, recall, f1-score, and support.**"
   ]
  },
  {
   "cell_type": "code",
   "execution_count": 16,
   "id": "b01dd2c8",
   "metadata": {},
   "outputs": [
    {
     "name": "stdout",
     "output_type": "stream",
     "text": [
      "Score: 0.9436619718309859 \n",
      "\n",
      "Rates:\n",
      " col_0       0    1\n",
      "survived          \n",
      "0         305    2\n",
      "1          26  164 \n",
      "\n",
      "              precision    recall  f1-score   support\n",
      "\n",
      "           0       0.92      0.99      0.96       307\n",
      "           1       0.99      0.86      0.92       190\n",
      "\n",
      "    accuracy                           0.94       497\n",
      "   macro avg       0.95      0.93      0.94       497\n",
      "weighted avg       0.95      0.94      0.94       497\n",
      "\n"
     ]
    }
   ],
   "source": [
    "print(\"Score:\", clf.score(X_train, y_train), \"\\n\")\n",
    "print(\"Rates:\\n\", pd.crosstab(y_train, y_pred), \"\\n\")\n",
    "print(classification_report(y_train, y_pred))"
   ]
  },
  {
   "cell_type": "markdown",
   "id": "dc69367a",
   "metadata": {},
   "source": [
    "### Run through steps 2-4 using a different max_depth value."
   ]
  },
  {
   "cell_type": "code",
   "execution_count": 17,
   "id": "49c1100c",
   "metadata": {},
   "outputs": [
    {
     "data": {
      "text/plain": [
       "DecisionTreeClassifier(max_depth=3, random_state=123)"
      ]
     },
     "execution_count": 17,
     "metadata": {},
     "output_type": "execute_result"
    }
   ],
   "source": [
    "clf2 = DecisionTreeClassifier(max_depth=3, random_state=123)\n",
    "clf2 = clf2.fit(X_train, y_train)\n",
    "clf2"
   ]
  },
  {
   "cell_type": "code",
   "execution_count": 18,
   "id": "97849e4c",
   "metadata": {},
   "outputs": [],
   "source": [
    "y_pred = clf2.predict(X_train)"
   ]
  },
  {
   "cell_type": "code",
   "execution_count": 19,
   "id": "7704971b",
   "metadata": {},
   "outputs": [
    {
     "data": {
      "text/plain": [
       "0.7183098591549296"
      ]
     },
     "execution_count": 19,
     "metadata": {},
     "output_type": "execute_result"
    }
   ],
   "source": [
    "clf2.score(X_train, y_train)"
   ]
  },
  {
   "cell_type": "code",
   "execution_count": 20,
   "id": "3d515ada",
   "metadata": {},
   "outputs": [
    {
     "data": {
      "text/plain": [
       "array([[287,  20],\n",
       "       [120,  70]])"
      ]
     },
     "execution_count": 20,
     "metadata": {},
     "output_type": "execute_result"
    }
   ],
   "source": [
    "confusion_matrix(y_train, y_pred)"
   ]
  },
  {
   "cell_type": "code",
   "execution_count": 21,
   "id": "5a5d4c78",
   "metadata": {},
   "outputs": [
    {
     "name": "stdout",
     "output_type": "stream",
     "text": [
      "              precision    recall  f1-score   support\n",
      "\n",
      "           0       0.71      0.93      0.80       307\n",
      "           1       0.78      0.37      0.50       190\n",
      "\n",
      "    accuracy                           0.72       497\n",
      "   macro avg       0.74      0.65      0.65       497\n",
      "weighted avg       0.73      0.72      0.69       497\n",
      "\n"
     ]
    }
   ],
   "source": [
    "print(classification_report(y_train, y_pred))"
   ]
  },
  {
   "cell_type": "markdown",
   "id": "bbcfc342",
   "metadata": {},
   "source": [
    "### Which model performs better on your in-sample data?"
   ]
  },
  {
   "cell_type": "markdown",
   "id": "ee635bf0",
   "metadata": {},
   "source": [
    "The one with max_depth of 13 instead of 3"
   ]
  },
  {
   "cell_type": "markdown",
   "id": "6d2bc033",
   "metadata": {},
   "source": [
    "### Which model performs best on your out-of-sample data, the validate set?"
   ]
  },
  {
   "cell_type": "code",
   "execution_count": 22,
   "id": "13f466fb",
   "metadata": {},
   "outputs": [
    {
     "name": "stdout",
     "output_type": "stream",
     "text": [
      "0.6355140186915887\n",
      "0.705607476635514\n"
     ]
    }
   ],
   "source": [
    "X_validate, y_validate = validate.drop(columns=['survived','sex','embarked','class','embark_town']), validate.survived\n",
    "print(clf.score(X_validate, y_validate))\n",
    "print(clf2.score(X_validate, y_validate))"
   ]
  },
  {
   "cell_type": "markdown",
   "id": "b7fa8679",
   "metadata": {},
   "source": [
    "## Telco Dataset\n",
    "### Work through these same exercises using the Telco dataset.\n",
    "### Experiment with this model on other datasets with a higher number of output classes."
   ]
  },
  {
   "cell_type": "code",
   "execution_count": null,
   "id": "fe3011d9",
   "metadata": {},
   "outputs": [],
   "source": []
  }
 ],
 "metadata": {
  "kernelspec": {
   "display_name": "Python 3",
   "language": "python",
   "name": "python3"
  },
  "language_info": {
   "codemirror_mode": {
    "name": "ipython",
    "version": 3
   },
   "file_extension": ".py",
   "mimetype": "text/x-python",
   "name": "python",
   "nbconvert_exporter": "python",
   "pygments_lexer": "ipython3",
   "version": "3.8.8"
  }
 },
 "nbformat": 4,
 "nbformat_minor": 5
}
