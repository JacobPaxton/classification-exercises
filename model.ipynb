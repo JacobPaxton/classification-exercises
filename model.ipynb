{
 "cells": [
  {
   "cell_type": "markdown",
   "id": "d9ca3c80",
   "metadata": {},
   "source": [
    "# Decision Tree\n",
    "## Titanic Data - Decision Tree\n",
    "- Determine baseline and baseline accuracy.\n",
    "- Split data, fit decision tree classifier to data.\n",
    "- Make predictions.\n",
    "- Get model score for training dataset.\n",
    "- Print confusion matrix and classification report for predictions.\n",
    "- Fit new model and run analysis for a different max_tree depth.\n",
    "- Determine which model performs better on in-sample data.\n",
    "- Determine which model performs better on out-of-sample data."
   ]
  },
  {
   "cell_type": "code",
   "execution_count": 55,
   "id": "ff6f7c3d",
   "metadata": {},
   "outputs": [],
   "source": [
    "### Imports ###\n",
    "import warnings\n",
    "warnings.filterwarnings(\"ignore\")\n",
    "\n",
    "import pandas as pd\n",
    "from sklearn.model_selection import train_test_split\n",
    "from sklearn.metrics import confusion_matrix\n",
    "from sklearn.metrics import classification_report\n",
    "\n",
    "from sklearn.tree import DecisionTreeClassifier\n",
    "\n",
    "from env import get_db_url\n",
    "import explore"
   ]
  },
  {
   "cell_type": "code",
   "execution_count": 3,
   "id": "c267f63c",
   "metadata": {},
   "outputs": [
    {
     "data": {
      "text/html": [
       "<div>\n",
       "<style scoped>\n",
       "    .dataframe tbody tr th:only-of-type {\n",
       "        vertical-align: middle;\n",
       "    }\n",
       "\n",
       "    .dataframe tbody tr th {\n",
       "        vertical-align: top;\n",
       "    }\n",
       "\n",
       "    .dataframe thead th {\n",
       "        text-align: right;\n",
       "    }\n",
       "</style>\n",
       "<table border=\"1\" class=\"dataframe\">\n",
       "  <thead>\n",
       "    <tr style=\"text-align: right;\">\n",
       "      <th></th>\n",
       "      <th>passenger_id</th>\n",
       "      <th>survived</th>\n",
       "      <th>pclass</th>\n",
       "      <th>sex</th>\n",
       "      <th>age</th>\n",
       "      <th>sibsp</th>\n",
       "      <th>parch</th>\n",
       "      <th>fare</th>\n",
       "      <th>embarked</th>\n",
       "      <th>class</th>\n",
       "      <th>deck</th>\n",
       "      <th>embark_town</th>\n",
       "      <th>alone</th>\n",
       "    </tr>\n",
       "  </thead>\n",
       "  <tbody>\n",
       "    <tr>\n",
       "      <th>0</th>\n",
       "      <td>0</td>\n",
       "      <td>0</td>\n",
       "      <td>3</td>\n",
       "      <td>male</td>\n",
       "      <td>22.0</td>\n",
       "      <td>1</td>\n",
       "      <td>0</td>\n",
       "      <td>7.2500</td>\n",
       "      <td>S</td>\n",
       "      <td>Third</td>\n",
       "      <td>None</td>\n",
       "      <td>Southampton</td>\n",
       "      <td>0</td>\n",
       "    </tr>\n",
       "    <tr>\n",
       "      <th>1</th>\n",
       "      <td>1</td>\n",
       "      <td>1</td>\n",
       "      <td>1</td>\n",
       "      <td>female</td>\n",
       "      <td>38.0</td>\n",
       "      <td>1</td>\n",
       "      <td>0</td>\n",
       "      <td>71.2833</td>\n",
       "      <td>C</td>\n",
       "      <td>First</td>\n",
       "      <td>C</td>\n",
       "      <td>Cherbourg</td>\n",
       "      <td>0</td>\n",
       "    </tr>\n",
       "    <tr>\n",
       "      <th>2</th>\n",
       "      <td>2</td>\n",
       "      <td>1</td>\n",
       "      <td>3</td>\n",
       "      <td>female</td>\n",
       "      <td>26.0</td>\n",
       "      <td>0</td>\n",
       "      <td>0</td>\n",
       "      <td>7.9250</td>\n",
       "      <td>S</td>\n",
       "      <td>Third</td>\n",
       "      <td>None</td>\n",
       "      <td>Southampton</td>\n",
       "      <td>1</td>\n",
       "    </tr>\n",
       "  </tbody>\n",
       "</table>\n",
       "</div>"
      ],
      "text/plain": [
       "   passenger_id  survived  pclass     sex   age  sibsp  parch     fare  \\\n",
       "0             0         0       3    male  22.0      1      0   7.2500   \n",
       "1             1         1       1  female  38.0      1      0  71.2833   \n",
       "2             2         1       3  female  26.0      0      0   7.9250   \n",
       "\n",
       "  embarked  class  deck  embark_town  alone  \n",
       "0        S  Third  None  Southampton      0  \n",
       "1        C  First     C    Cherbourg      0  \n",
       "2        S  Third  None  Southampton      1  "
      ]
     },
     "execution_count": 3,
     "metadata": {},
     "output_type": "execute_result"
    }
   ],
   "source": [
    "### Pull titanic_db data ###\n",
    "url = get_db_url(db_name='titanic_db')\n",
    "df = pd.read_sql('SELECT * FROM passengers', url)\n",
    "df.head(3)"
   ]
  },
  {
   "cell_type": "code",
   "execution_count": 28,
   "id": "ecb4ee76",
   "metadata": {},
   "outputs": [],
   "source": [
    "### Save a copy of dataframe before manipulations ###\n",
    "df_original = df.copy()"
   ]
  },
  {
   "cell_type": "code",
   "execution_count": 6,
   "id": "ab941bdb",
   "metadata": {},
   "outputs": [
    {
     "data": {
      "text/plain": [
       "((498, 13), (214, 13), (179, 13))"
      ]
     },
     "execution_count": 6,
     "metadata": {},
     "output_type": "execute_result"
    }
   ],
   "source": [
    "### Split data ###\n",
    "train_validate, test = train_test_split(df, test_size=.2, \n",
    "                                            random_state=123, \n",
    "                                            stratify=df.survived)\n",
    "train, validate = train_test_split(train_validate, test_size=.3,\n",
    "                                                   random_state=123,\n",
    "                                                   stratify=train_validate.survived)\n",
    "train.shape, validate.shape, test.shape"
   ]
  },
  {
   "cell_type": "code",
   "execution_count": 11,
   "id": "c897a870",
   "metadata": {},
   "outputs": [
    {
     "data": {
      "text/plain": [
       "0.6164658634538153"
      ]
     },
     "execution_count": 11,
     "metadata": {},
     "output_type": "execute_result"
    }
   ],
   "source": [
    "### Baseline and Baseline Prediction ###\n",
    "# train.survived.value_counts()\n",
    "(train.survived == 0).mean()"
   ]
  },
  {
   "cell_type": "markdown",
   "id": "cc5313e0",
   "metadata": {},
   "source": [
    "Data is tidy, continuing..."
   ]
  },
  {
   "cell_type": "code",
   "execution_count": 16,
   "id": "6e8e1483",
   "metadata": {},
   "outputs": [],
   "source": [
    "### Bivariate Exploration setup ###\n",
    "cat_vars = ['pclass', 'sex', 'deck', 'embark_town', 'alone']\n",
    "quant_vars = ['age', 'sibsp', 'parch', 'fare']\n",
    "target = 'survived'"
   ]
  },
  {
   "cell_type": "code",
   "execution_count": 43,
   "id": "a536ebcc",
   "metadata": {
    "scrolled": false
   },
   "outputs": [],
   "source": [
    "### Bivariate Exploration ###\n",
    "# explore.explore_bivariate(train, target, cat_vars, quant_vars)"
   ]
  },
  {
   "cell_type": "markdown",
   "id": "8b295b38",
   "metadata": {},
   "source": [
    "Candidates for model:\n",
    "- Sex\n",
    "- Fare\n",
    "- Passenger Class\n",
    "- Alone"
   ]
  },
  {
   "cell_type": "markdown",
   "id": "29a9ae70",
   "metadata": {},
   "source": [
    "Candidates contain no nulls, continuing..."
   ]
  },
  {
   "cell_type": "code",
   "execution_count": 41,
   "id": "95d34578",
   "metadata": {},
   "outputs": [],
   "source": [
    "### Set original subsets to enable rerun of following cells without notebook restart ###\n",
    "train_original = train.copy()\n",
    "validate_original = validate.copy()\n",
    "test_original = test.copy()"
   ]
  },
  {
   "cell_type": "code",
   "execution_count": 48,
   "id": "10ee62e4",
   "metadata": {},
   "outputs": [
    {
     "data": {
      "text/html": [
       "<div>\n",
       "<style scoped>\n",
       "    .dataframe tbody tr th:only-of-type {\n",
       "        vertical-align: middle;\n",
       "    }\n",
       "\n",
       "    .dataframe tbody tr th {\n",
       "        vertical-align: top;\n",
       "    }\n",
       "\n",
       "    .dataframe thead th {\n",
       "        text-align: right;\n",
       "    }\n",
       "</style>\n",
       "<table border=\"1\" class=\"dataframe\">\n",
       "  <thead>\n",
       "    <tr style=\"text-align: right;\">\n",
       "      <th></th>\n",
       "      <th>survived</th>\n",
       "      <th>sex</th>\n",
       "      <th>pclass</th>\n",
       "      <th>alone</th>\n",
       "      <th>fare</th>\n",
       "    </tr>\n",
       "  </thead>\n",
       "  <tbody>\n",
       "    <tr>\n",
       "      <th>583</th>\n",
       "      <td>0</td>\n",
       "      <td>0</td>\n",
       "      <td>1</td>\n",
       "      <td>1</td>\n",
       "      <td>40.1250</td>\n",
       "    </tr>\n",
       "    <tr>\n",
       "      <th>165</th>\n",
       "      <td>1</td>\n",
       "      <td>0</td>\n",
       "      <td>3</td>\n",
       "      <td>0</td>\n",
       "      <td>20.5250</td>\n",
       "    </tr>\n",
       "    <tr>\n",
       "      <th>50</th>\n",
       "      <td>0</td>\n",
       "      <td>0</td>\n",
       "      <td>3</td>\n",
       "      <td>0</td>\n",
       "      <td>39.6875</td>\n",
       "    </tr>\n",
       "  </tbody>\n",
       "</table>\n",
       "</div>"
      ],
      "text/plain": [
       "     survived  sex  pclass  alone     fare\n",
       "583         0    0       1      1  40.1250\n",
       "165         1    0       3      0  20.5250\n",
       "50          0    0       3      0  39.6875"
      ]
     },
     "execution_count": 48,
     "metadata": {},
     "output_type": "execute_result"
    }
   ],
   "source": [
    "### Set features, prepare for model ###\n",
    "train, validate, test = train_original.copy(), validate_original.copy(), test_original.copy()\n",
    "\n",
    "train = train[['survived','sex','pclass','alone','fare']]\n",
    "validate = validate[['survived','sex','pclass','alone','fare']]\n",
    "test = test[['survived','sex','pclass','alone','fare']]\n",
    "\n",
    "map1 = {'male':0, 'female':1}\n",
    "train['sex'] = train.sex.map(map1)\n",
    "validate['sex'] = validate.sex.map(map1)\n",
    "test['sex'] = test.sex.map(map1)\n",
    "\n",
    "train.head(3)"
   ]
  },
  {
   "cell_type": "code",
   "execution_count": 50,
   "id": "1de14a06",
   "metadata": {},
   "outputs": [],
   "source": [
    "### Set target ###\n",
    "X_train, y_train = train.drop(columns='survived'), train.survived\n",
    "X_validate, y_validate = validate.drop(columns='survived'), validate.survived\n",
    "X_test, y_test = test.drop(columns='survived'), test.survived"
   ]
  },
  {
   "cell_type": "code",
   "execution_count": 51,
   "id": "1475fd17",
   "metadata": {},
   "outputs": [],
   "source": [
    "### Create Decision Tree Model ###\n",
    "clf = DecisionTreeClassifier(max_depth=3, random_state=123)\n",
    "clf = clf.fit(X_train, y_train)"
   ]
  },
  {
   "cell_type": "code",
   "execution_count": 54,
   "id": "e94e0bb1",
   "metadata": {},
   "outputs": [
    {
     "name": "stdout",
     "output_type": "stream",
     "text": [
      "Score: 0.8232931726907631\n"
     ]
    }
   ],
   "source": [
    "### Show score, make predictions ###\n",
    "print(\"Score:\", clf.score(X_train, y_train))\n",
    "y_pred = clf.predict(X_train)"
   ]
  },
  {
   "cell_type": "code",
   "execution_count": 58,
   "id": "587d453c",
   "metadata": {},
   "outputs": [
    {
     "name": "stdout",
     "output_type": "stream",
     "text": [
      "Confusion Matrix\n",
      "[[276  31]\n",
      " [ 57 134]] \n",
      "\n",
      "Classification Report\n",
      "                    0           1  accuracy   macro avg  weighted avg\n",
      "precision    0.828829    0.812121  0.823293    0.820475      0.822421\n",
      "recall       0.899023    0.701571  0.823293    0.800297      0.823293\n",
      "f1-score     0.862500    0.752809  0.823293    0.807654      0.820430\n",
      "support    307.000000  191.000000  0.823293  498.000000    498.000000\n"
     ]
    }
   ],
   "source": [
    "### Print confusion matrix and classification report ###\n",
    "print(\"Confusion Matrix\")\n",
    "print(confusion_matrix(y_train, y_pred), \"\\n\")\n",
    "\n",
    "print(\"Classification Report\")\n",
    "report = pd.DataFrame(classification_report(y_train, y_pred, output_dict=True))\n",
    "print(report)"
   ]
  },
  {
   "cell_type": "code",
   "execution_count": 59,
   "id": "565ea7a0",
   "metadata": {},
   "outputs": [
    {
     "name": "stdout",
     "output_type": "stream",
     "text": [
      "Score: 0.7991967871485943\n",
      "Confusion Matrix\n",
      "[[265  42]\n",
      " [ 58 133]] \n",
      "\n",
      "Classification Report\n",
      "                    0           1  accuracy   macro avg  weighted avg\n",
      "precision    0.820433    0.760000  0.799197    0.790217      0.797255\n",
      "recall       0.863192    0.696335  0.799197    0.779764      0.799197\n",
      "f1-score     0.841270    0.726776  0.799197    0.784023      0.797358\n",
      "support    307.000000  191.000000  0.799197  498.000000    498.000000\n"
     ]
    }
   ],
   "source": [
    "### Try a model with different max_depth ###\n",
    "clf_alt = DecisionTreeClassifier(max_depth=1, random_state=123)\n",
    "clf_alt = clf_alt.fit(X_train, y_train)\n",
    "\n",
    "print(\"Score:\", clf_alt.score(X_train, y_train))\n",
    "y_pred_alt = clf_alt.predict(X_train)\n",
    "\n",
    "print(\"Confusion Matrix\")\n",
    "print(confusion_matrix(y_train, y_pred_alt), \"\\n\")\n",
    "\n",
    "print(\"Classification Report\")\n",
    "report = pd.DataFrame(classification_report(y_train, y_pred_alt, output_dict=True))\n",
    "print(report)"
   ]
  },
  {
   "cell_type": "markdown",
   "id": "e10aa0da",
   "metadata": {},
   "source": [
    "Model 1 score (max_depth=3): 82.3% ----- Model 2 score (max_depth=1): 79.9%"
   ]
  },
  {
   "cell_type": "code",
   "execution_count": 60,
   "id": "3d285ff7",
   "metadata": {},
   "outputs": [
    {
     "name": "stdout",
     "output_type": "stream",
     "text": [
      "Model 1 score: 0.7850467289719626\n",
      "Model 2 score: 0.7616822429906542\n"
     ]
    }
   ],
   "source": [
    "# Run models against out-of-sample data\n",
    "print(\"Model 1 score:\", clf.score(X_validate, y_validate))\n",
    "print(\"Model 2 score:\", clf_alt.score(X_validate, y_validate))"
   ]
  },
  {
   "cell_type": "markdown",
   "id": "af96bd6b",
   "metadata": {},
   "source": [
    "## Telco Data - Decision Tree"
   ]
  },
  {
   "cell_type": "code",
   "execution_count": null,
   "id": "f240a150",
   "metadata": {},
   "outputs": [],
   "source": []
  }
 ],
 "metadata": {
  "kernelspec": {
   "display_name": "Python 3",
   "language": "python",
   "name": "python3"
  },
  "language_info": {
   "codemirror_mode": {
    "name": "ipython",
    "version": 3
   },
   "file_extension": ".py",
   "mimetype": "text/x-python",
   "name": "python",
   "nbconvert_exporter": "python",
   "pygments_lexer": "ipython3",
   "version": "3.8.8"
  }
 },
 "nbformat": 4,
 "nbformat_minor": 5
}
