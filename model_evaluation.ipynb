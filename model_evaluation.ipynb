{
 "cells": [
  {
   "cell_type": "markdown",
   "id": "71f6a481",
   "metadata": {},
   "source": [
    "## Evaluation"
   ]
  },
  {
   "cell_type": "markdown",
   "id": "e126c21a",
   "metadata": {},
   "source": [
    "Given the following confusion matrix, evaluate (by hand) the model's performance."
   ]
  },
  {
   "cell_type": "markdown",
   "id": "1889f15f",
   "metadata": {},
   "source": [
    "|               | pred dog   | pred cat   |\n",
    "|:------------  |-----------:|-----------:|\n",
    "| actual dog    |         46 |         7  |\n",
    "| actual cat    |         13 |         34 |"
   ]
  },
  {
   "cell_type": "code",
   "execution_count": 1,
   "id": "d668dd98",
   "metadata": {},
   "outputs": [
    {
     "data": {
      "text/plain": [
       "0.8"
      ]
     },
     "execution_count": 1,
     "metadata": {},
     "output_type": "execute_result"
    }
   ],
   "source": [
    "(46 + 34) / (46 + 7 + 13 + 34)"
   ]
  },
  {
   "cell_type": "markdown",
   "id": "cdf66a41",
   "metadata": {},
   "source": [
    "#### In the context of this problem, what is a false positive: \n",
    "Actual dog predict cat\n",
    "#### In the context of this problem, what is a false negative? \n",
    "Actual cat predict dog\n",
    "#### How would you describe this model?\n",
    "Dog prediction model"
   ]
  },
  {
   "cell_type": "markdown",
   "id": "de1f5bf2",
   "metadata": {},
   "source": [
    "### Rubber Duck Plant Exercises\n",
    "You are working as a datascientist working for Codeup Cody Creator (C3 for short), a rubber-duck manufacturing plant. Unfortunately, some of the rubber ducks that are produced will have defects. Your team has built several models that try to predict those defects, and the data from their predictions can be found here. "
   ]
  },
  {
   "cell_type": "code",
   "execution_count": 4,
   "id": "fbcd5559",
   "metadata": {},
   "outputs": [],
   "source": [
    "import pandas as pd"
   ]
  },
  {
   "cell_type": "code",
   "execution_count": 5,
   "id": "8fdfe38f",
   "metadata": {},
   "outputs": [
    {
     "data": {
      "text/html": [
       "<div>\n",
       "<style scoped>\n",
       "    .dataframe tbody tr th:only-of-type {\n",
       "        vertical-align: middle;\n",
       "    }\n",
       "\n",
       "    .dataframe tbody tr th {\n",
       "        vertical-align: top;\n",
       "    }\n",
       "\n",
       "    .dataframe thead th {\n",
       "        text-align: right;\n",
       "    }\n",
       "</style>\n",
       "<table border=\"1\" class=\"dataframe\">\n",
       "  <thead>\n",
       "    <tr style=\"text-align: right;\">\n",
       "      <th></th>\n",
       "      <th>actual</th>\n",
       "      <th>model1</th>\n",
       "      <th>model2</th>\n",
       "      <th>model3</th>\n",
       "    </tr>\n",
       "  </thead>\n",
       "  <tbody>\n",
       "    <tr>\n",
       "      <th>0</th>\n",
       "      <td>No Defect</td>\n",
       "      <td>No Defect</td>\n",
       "      <td>Defect</td>\n",
       "      <td>No Defect</td>\n",
       "    </tr>\n",
       "    <tr>\n",
       "      <th>1</th>\n",
       "      <td>No Defect</td>\n",
       "      <td>No Defect</td>\n",
       "      <td>Defect</td>\n",
       "      <td>Defect</td>\n",
       "    </tr>\n",
       "    <tr>\n",
       "      <th>2</th>\n",
       "      <td>No Defect</td>\n",
       "      <td>No Defect</td>\n",
       "      <td>Defect</td>\n",
       "      <td>No Defect</td>\n",
       "    </tr>\n",
       "  </tbody>\n",
       "</table>\n",
       "</div>"
      ],
      "text/plain": [
       "      actual     model1  model2     model3\n",
       "0  No Defect  No Defect  Defect  No Defect\n",
       "1  No Defect  No Defect  Defect     Defect\n",
       "2  No Defect  No Defect  Defect  No Defect"
      ]
     },
     "execution_count": 5,
     "metadata": {},
     "output_type": "execute_result"
    }
   ],
   "source": [
    "df = pd.read_csv('c3.csv')\n",
    "df.head(3)"
   ]
  },
  {
   "cell_type": "markdown",
   "id": "51f7b9c1",
   "metadata": {},
   "source": [
    "An internal team wants to investigate the cause of the manufacturing defects. They tell you that they want to identify as many of the ducks that have a defect as possible. Which evaluation metric would be appropriate here?\n",
    "- **Recall** minimizes false negatives (we are tolerant of mistakenly including ducks without defects [false positives] because we miss less defective ducks)\n",
    "\n",
    "Which model would be the best fit for this use case?"
   ]
  },
  {
   "cell_type": "code",
   "execution_count": 7,
   "id": "6a4ec524",
   "metadata": {},
   "outputs": [
    {
     "data": {
      "text/plain": [
       "(0.5, 0.5625, 0.8125)"
      ]
     },
     "execution_count": 7,
     "metadata": {},
     "output_type": "execute_result"
    }
   ],
   "source": [
    "# Create subset for defective duck actuals\n",
    "subset = df[df.actual == 'Defect']\n",
    "\n",
    "# Calculate recall (highest is best)\n",
    "m1_avg = (subset.actual == subset.model1).mean()\n",
    "m2_avg = (subset.actual == subset.model2).mean()\n",
    "m3_avg = (subset.actual == subset.model3).mean()\n",
    "\n",
    "m1_avg, m2_avg, m3_avg"
   ]
  },
  {
   "cell_type": "markdown",
   "id": "04eca7fc",
   "metadata": {},
   "source": [
    "Recently several stories in the local news have come out highlighting customers who received a rubber duck with a defect, and portraying C3 in a bad light. The PR team has decided to launch a program that gives customers with a defective duck a vacation to Hawaii. They need you to predict which ducks will have defects, but tell you they really don't want to accidentally give out a vacation package when the duck really doesn't have a defect. \n",
    "- Which evaluation metric would be appropriate here? **Precision** minimizes false positives (we are tolerant of missing some defective ducks)\n",
    "- Which model would be the best fit for this use case?"
   ]
  },
  {
   "cell_type": "code",
   "execution_count": 10,
   "id": "48342dad",
   "metadata": {},
   "outputs": [
    {
     "data": {
      "text/plain": [
       "(0.8, 0.1, 0.13131313131313133)"
      ]
     },
     "execution_count": 10,
     "metadata": {},
     "output_type": "execute_result"
    }
   ],
   "source": [
    "# Create subset for each model\n",
    "subset1 = df[df.model1 == 'Defect']\n",
    "subset2 = df[df.model2 == 'Defect']\n",
    "subset3 = df[df.model3 == 'Defect']\n",
    "\n",
    "# Calculate precision (highest is best)\n",
    "m1_avg = (subset1.model1 == subset1.actual).mean()\n",
    "m2_avg = (subset2.model2 == subset2.actual).mean()\n",
    "m3_avg = (subset3.model3 == subset3.actual).mean()\n",
    "\n",
    "m1_avg, m2_avg, m3_avg"
   ]
  },
  {
   "cell_type": "markdown",
   "id": "6dbdd194",
   "metadata": {},
   "source": [
    "### Cat and Dog Pictures\n",
    "You are working as a data scientist for Gives You Paws ™, a subscription based service that shows you cute pictures of dogs or cats (or both for an additional fee). At Gives You Paws, anyone can upload pictures of their cats or dogs. The photos are then put through a two step process. First an automated algorithm tags pictures as either a cat or a dog (Phase I). Next, the photos that have been initially identified are put through another round of review, possibly with some human oversight, before being presented to the users (Phase II).\n",
    "\n",
    "Several models have already been developed with the data, and you can find their results here."
   ]
  },
  {
   "cell_type": "code",
   "execution_count": 11,
   "id": "f173e280",
   "metadata": {},
   "outputs": [
    {
     "data": {
      "text/html": [
       "<div>\n",
       "<style scoped>\n",
       "    .dataframe tbody tr th:only-of-type {\n",
       "        vertical-align: middle;\n",
       "    }\n",
       "\n",
       "    .dataframe tbody tr th {\n",
       "        vertical-align: top;\n",
       "    }\n",
       "\n",
       "    .dataframe thead th {\n",
       "        text-align: right;\n",
       "    }\n",
       "</style>\n",
       "<table border=\"1\" class=\"dataframe\">\n",
       "  <thead>\n",
       "    <tr style=\"text-align: right;\">\n",
       "      <th></th>\n",
       "      <th>actual</th>\n",
       "      <th>model1</th>\n",
       "      <th>model2</th>\n",
       "      <th>model3</th>\n",
       "      <th>model4</th>\n",
       "    </tr>\n",
       "  </thead>\n",
       "  <tbody>\n",
       "    <tr>\n",
       "      <th>0</th>\n",
       "      <td>cat</td>\n",
       "      <td>cat</td>\n",
       "      <td>dog</td>\n",
       "      <td>cat</td>\n",
       "      <td>dog</td>\n",
       "    </tr>\n",
       "    <tr>\n",
       "      <th>1</th>\n",
       "      <td>dog</td>\n",
       "      <td>dog</td>\n",
       "      <td>cat</td>\n",
       "      <td>cat</td>\n",
       "      <td>dog</td>\n",
       "    </tr>\n",
       "    <tr>\n",
       "      <th>2</th>\n",
       "      <td>dog</td>\n",
       "      <td>cat</td>\n",
       "      <td>cat</td>\n",
       "      <td>cat</td>\n",
       "      <td>dog</td>\n",
       "    </tr>\n",
       "  </tbody>\n",
       "</table>\n",
       "</div>"
      ],
      "text/plain": [
       "  actual model1 model2 model3 model4\n",
       "0    cat    cat    dog    cat    dog\n",
       "1    dog    dog    cat    cat    dog\n",
       "2    dog    cat    cat    cat    dog"
      ]
     },
     "execution_count": 11,
     "metadata": {},
     "output_type": "execute_result"
    }
   ],
   "source": [
    "df = pd.read_csv('gives_you_paws.csv')\n",
    "df.head(3)"
   ]
  },
  {
   "cell_type": "markdown",
   "id": "fb8bfdad",
   "metadata": {},
   "source": [
    "Given this dataset, use pandas to create a baseline model (i.e. a model that just predicts the most common class)"
   ]
  },
  {
   "cell_type": "code",
   "execution_count": 16,
   "id": "de29d7ad",
   "metadata": {},
   "outputs": [
    {
     "data": {
      "text/html": [
       "<div>\n",
       "<style scoped>\n",
       "    .dataframe tbody tr th:only-of-type {\n",
       "        vertical-align: middle;\n",
       "    }\n",
       "\n",
       "    .dataframe tbody tr th {\n",
       "        vertical-align: top;\n",
       "    }\n",
       "\n",
       "    .dataframe thead th {\n",
       "        text-align: right;\n",
       "    }\n",
       "</style>\n",
       "<table border=\"1\" class=\"dataframe\">\n",
       "  <thead>\n",
       "    <tr style=\"text-align: right;\">\n",
       "      <th></th>\n",
       "      <th>actual</th>\n",
       "      <th>model1</th>\n",
       "      <th>model2</th>\n",
       "      <th>model3</th>\n",
       "      <th>model4</th>\n",
       "      <th>baseline</th>\n",
       "    </tr>\n",
       "  </thead>\n",
       "  <tbody>\n",
       "    <tr>\n",
       "      <th>0</th>\n",
       "      <td>cat</td>\n",
       "      <td>cat</td>\n",
       "      <td>dog</td>\n",
       "      <td>cat</td>\n",
       "      <td>dog</td>\n",
       "      <td>dog</td>\n",
       "    </tr>\n",
       "    <tr>\n",
       "      <th>1</th>\n",
       "      <td>dog</td>\n",
       "      <td>dog</td>\n",
       "      <td>cat</td>\n",
       "      <td>cat</td>\n",
       "      <td>dog</td>\n",
       "      <td>dog</td>\n",
       "    </tr>\n",
       "    <tr>\n",
       "      <th>2</th>\n",
       "      <td>dog</td>\n",
       "      <td>cat</td>\n",
       "      <td>cat</td>\n",
       "      <td>cat</td>\n",
       "      <td>dog</td>\n",
       "      <td>dog</td>\n",
       "    </tr>\n",
       "  </tbody>\n",
       "</table>\n",
       "</div>"
      ],
      "text/plain": [
       "  actual model1 model2 model3 model4 baseline\n",
       "0    cat    cat    dog    cat    dog      dog\n",
       "1    dog    dog    cat    cat    dog      dog\n",
       "2    dog    cat    cat    cat    dog      dog"
      ]
     },
     "execution_count": 16,
     "metadata": {},
     "output_type": "execute_result"
    }
   ],
   "source": [
    "df['baseline'] = df.actual.max()\n",
    "df.head(3)"
   ]
  },
  {
   "cell_type": "markdown",
   "id": "3d34ccaf",
   "metadata": {},
   "source": [
    "In terms of accuracy, how do the various models compare to the baseline model? Are any of the models better than the baseline?"
   ]
  },
  {
   "cell_type": "code",
   "execution_count": 21,
   "id": "dc553708",
   "metadata": {},
   "outputs": [
    {
     "data": {
      "text/plain": [
       "(0.8074, 0.6304, 0.5096, 0.7426, 0.6508)"
      ]
     },
     "execution_count": 21,
     "metadata": {},
     "output_type": "execute_result"
    }
   ],
   "source": [
    "m1_avg = (df.model1 == df.actual).mean()\n",
    "m2_avg = (df.model2 == df.actual).mean()\n",
    "m3_avg = (df.model3 == df.actual).mean()\n",
    "m4_avg = (df.model4 == df.actual).mean()\n",
    "baseline_avg = (df.baseline == df.actual).mean()\n",
    "\n",
    "m1_avg, m2_avg, m3_avg, m4_avg, baseline_avg"
   ]
  },
  {
   "cell_type": "markdown",
   "id": "087a1472",
   "metadata": {},
   "source": [
    "Suppose you are working on a team that solely deals with dog pictures. Which of these models would you recomend for Phase I? For Phase II?"
   ]
  },
  {
   "cell_type": "code",
   "execution_count": 27,
   "id": "db990907",
   "metadata": {},
   "outputs": [
    {
     "data": {
      "text/plain": [
       "(0.803318992009834,\n",
       " 0.49078057775046097,\n",
       " 0.5086047940995697,\n",
       " 0.9557467732022127)"
      ]
     },
     "execution_count": 27,
     "metadata": {},
     "output_type": "execute_result"
    }
   ],
   "source": [
    "# Phase 1 recommendation is best-performing model, Phase 2 recommendation is worst-performing model (needs human review)\n",
    "# Create subset of dog picture actuals\n",
    "subset = df[df.actual == 'dog']\n",
    "\n",
    "# Calculate performance\n",
    "m1_avg = (subset.model1 == subset.actual).mean()\n",
    "m2_avg = (subset.model2 == subset.actual).mean()\n",
    "m3_avg = (subset.model3 == subset.actual).mean()\n",
    "m4_avg = (subset.model4 == subset.actual).mean()\n",
    "\n",
    "m1_avg, m2_avg, m3_avg, m4_avg"
   ]
  },
  {
   "cell_type": "markdown",
   "id": "8cb03cdb",
   "metadata": {},
   "source": [
    "Suppose you are working on a team that solely deals with cat pictures. Which of these models would you recomend for Phase I? For Phase II?"
   ]
  },
  {
   "cell_type": "code",
   "execution_count": 28,
   "id": "78359434",
   "metadata": {},
   "outputs": [
    {
     "data": {
      "text/plain": [
       "(0.8150057273768614,\n",
       " 0.8906071019473081,\n",
       " 0.5114547537227949,\n",
       " 0.34536082474226804)"
      ]
     },
     "execution_count": 28,
     "metadata": {},
     "output_type": "execute_result"
    }
   ],
   "source": [
    "# Phase 1 recommendation is best-performing model, Phase 2 recommendation is worst-performing model (needs human review)\n",
    "# Create subset of cat picture actuals\n",
    "subset = df[df.actual == 'cat']\n",
    "\n",
    "# Calculate performance\n",
    "m1_avg = (subset.model1 == subset.actual).mean()\n",
    "m2_avg = (subset.model2 == subset.actual).mean()\n",
    "m3_avg = (subset.model3 == subset.actual).mean()\n",
    "m4_avg = (subset.model4 == subset.actual).mean()\n",
    "\n",
    "m1_avg, m2_avg, m3_avg, m4_avg"
   ]
  },
  {
   "cell_type": "markdown",
   "id": "494a12b3",
   "metadata": {},
   "source": [
    "Follow the links below to read the documentation about each function, then apply those functions to the data from the previous problem.\n",
    "- sklearn.metrics.accuracy_score\n",
    "- sklearn.metrics.precision_score\n",
    "- sklearn.metrics.recall_score\n",
    "- sklearn.metrics.classification_report"
   ]
  },
  {
   "cell_type": "code",
   "execution_count": 33,
   "id": "36f5bb92",
   "metadata": {},
   "outputs": [],
   "source": [
    "from sklearn.metrics import accuracy_score, precision_score, recall_score, classification_report"
   ]
  },
  {
   "cell_type": "code",
   "execution_count": 36,
   "id": "a535ea83",
   "metadata": {},
   "outputs": [],
   "source": [
    "# Set arguments for sklearn functions\n",
    "y_pred1, y_pred2, y_pred3, y_pred4 = df.model1, df.model2, df.model3, df.model4\n",
    "y_true = df.actual"
   ]
  },
  {
   "cell_type": "code",
   "execution_count": 37,
   "id": "2a0896b9",
   "metadata": {},
   "outputs": [
    {
     "data": {
      "text/plain": [
       "(0.8074, 0.6304, 0.5096, 0.7426)"
      ]
     },
     "execution_count": 37,
     "metadata": {},
     "output_type": "execute_result"
    }
   ],
   "source": [
    "# Accuracy score through sklearn\n",
    "m1_avg = accuracy_score(y_true, y_pred1)\n",
    "m2_avg = accuracy_score(y_true, y_pred2)\n",
    "m3_avg = accuracy_score(y_true, y_pred3)\n",
    "m4_avg = accuracy_score(y_true, y_pred4)\n",
    "\n",
    "m1_avg, m2_avg, m3_avg, m4_avg"
   ]
  },
  {
   "cell_type": "code",
   "execution_count": 40,
   "id": "2b360277",
   "metadata": {},
   "outputs": [
    {
     "data": {
      "text/plain": [
       "(array([0.68977218, 0.89002383]),\n",
       " array([0.48412204, 0.89317673]),\n",
       " array([0.35834671, 0.65988836]),\n",
       " array([0.80722892, 0.73124853]))"
      ]
     },
     "execution_count": 40,
     "metadata": {},
     "output_type": "execute_result"
    }
   ],
   "source": [
    "# Precision score through sklearn\n",
    "m1_avg = precision_score(y_true, y_pred1, average=None)\n",
    "m2_avg = precision_score(y_true, y_pred2, average=None)\n",
    "m3_avg = precision_score(y_true, y_pred3, average=None)\n",
    "m4_avg = precision_score(y_true, y_pred4, average=None)\n",
    "\n",
    "m1_avg, m2_avg, m3_avg, m4_avg"
   ]
  },
  {
   "cell_type": "code",
   "execution_count": 41,
   "id": "a5f12dae",
   "metadata": {},
   "outputs": [
    {
     "data": {
      "text/plain": [
       "(array([0.81500573, 0.80331899]),\n",
       " array([0.8906071 , 0.49078058]),\n",
       " array([0.51145475, 0.50860479]),\n",
       " array([0.34536082, 0.95574677]))"
      ]
     },
     "execution_count": 41,
     "metadata": {},
     "output_type": "execute_result"
    }
   ],
   "source": [
    "# Recall score through sklearn\n",
    "m1_avg = recall_score(y_true, y_pred1, average=None)\n",
    "m2_avg = recall_score(y_true, y_pred2, average=None)\n",
    "m3_avg = recall_score(y_true, y_pred3, average=None)\n",
    "m4_avg = recall_score(y_true, y_pred4, average=None)\n",
    "\n",
    "m1_avg, m2_avg, m3_avg, m4_avg"
   ]
  },
  {
   "cell_type": "code",
   "execution_count": 47,
   "id": "e5c90eb5",
   "metadata": {},
   "outputs": [
    {
     "name": "stdout",
     "output_type": "stream",
     "text": [
      "              precision    recall  f1-score   support\n",
      "\n",
      "         cat       0.69      0.82      0.75      1746\n",
      "         dog       0.89      0.80      0.84      3254\n",
      "\n",
      "    accuracy                           0.81      5000\n",
      "   macro avg       0.79      0.81      0.80      5000\n",
      "weighted avg       0.82      0.81      0.81      5000\n",
      "\n",
      "              precision    recall  f1-score   support\n",
      "\n",
      "         cat       0.48      0.89      0.63      1746\n",
      "         dog       0.89      0.49      0.63      3254\n",
      "\n",
      "    accuracy                           0.63      5000\n",
      "   macro avg       0.69      0.69      0.63      5000\n",
      "weighted avg       0.75      0.63      0.63      5000\n",
      "\n",
      "              precision    recall  f1-score   support\n",
      "\n",
      "         cat       0.36      0.51      0.42      1746\n",
      "         dog       0.66      0.51      0.57      3254\n",
      "\n",
      "    accuracy                           0.51      5000\n",
      "   macro avg       0.51      0.51      0.50      5000\n",
      "weighted avg       0.55      0.51      0.52      5000\n",
      "\n",
      "              precision    recall  f1-score   support\n",
      "\n",
      "         cat       0.81      0.35      0.48      1746\n",
      "         dog       0.73      0.96      0.83      3254\n",
      "\n",
      "    accuracy                           0.74      5000\n",
      "   macro avg       0.77      0.65      0.66      5000\n",
      "weighted avg       0.76      0.74      0.71      5000\n",
      "\n"
     ]
    }
   ],
   "source": [
    "# Classification reports through sklearn\n",
    "print(classification_report(y_true, y_pred1))\n",
    "print(classification_report(y_true, y_pred2))\n",
    "print(classification_report(y_true, y_pred3))\n",
    "print(classification_report(y_true, y_pred4))"
   ]
  },
  {
   "cell_type": "code",
   "execution_count": null,
   "id": "edf197c8",
   "metadata": {},
   "outputs": [],
   "source": []
  }
 ],
 "metadata": {
  "kernelspec": {
   "display_name": "Python 3",
   "language": "python",
   "name": "python3"
  },
  "language_info": {
   "codemirror_mode": {
    "name": "ipython",
    "version": 3
   },
   "file_extension": ".py",
   "mimetype": "text/x-python",
   "name": "python",
   "nbconvert_exporter": "python",
   "pygments_lexer": "ipython3",
   "version": "3.8.8"
  }
 },
 "nbformat": 4,
 "nbformat_minor": 5
}
